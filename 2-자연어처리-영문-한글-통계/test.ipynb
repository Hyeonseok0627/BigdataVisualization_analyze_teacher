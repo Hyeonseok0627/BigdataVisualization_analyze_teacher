{
 "cells": [
  {
   "cell_type": "markdown",
   "metadata": {},
   "source": [
    "# 영문 분석 -> 워드 클라우드로 그리기(시각화)\n",
    "\n",
    "## 샘플 데이터 영문 학술 문서의 제목만 추출, 그 단어의 빈도 분석 시각화 \n",
    "## 데이터 수집 : Big data 키워드로 검색 후, 해당 학술 연구 정보 서비스에서 수집 해보기. \n",
    "## 조합, pandas.concat(), 정제 re 정규식, 기본적인 유효성 체크. \n",
    "## 변환 : word_tokenize(), lower(), \n",
    "## matplotlib.pyplot 이용하기. \n",
    "## 단어 빈도 구해주는 Counter() 이용. \n",
    "\n",
    "## 비정형 빅데이터 분석을 말하고 -> 자연어 처리 (nature language processing )\n",
    "## 자연어 처리 예) 음성, 텍스트 정보 추출. \n",
    "\n",
    "## 단어 빈도를 추출해서, 해당 단어 시각화하기."
   ]
  },
  {
   "cell_type": "markdown",
   "metadata": {},
   "source": [
    "# 관련 단어 용어 정리 \n",
    "## 텍스트 분석: 자연어 처리와 데이터 마이닝 결합하여 발전되었고, \n",
    "## 비정형 텍스트 데이터에서 정보를 추출하는 분석 방법. \n",
    "## 분석 방법 : 1) 텍스트 분류 2) 텍스트 군집화 3) 감성 분석. \n",
    "\n",
    "## 전처리 : 분석 작업의 정확도를 높이기 위해서 사용할 데이터 정리하고 변환하는 작업. \n",
    "### 수행하는 작업 \n",
    "### 정제 (cleaning): 불필요한 기호, 문자 필터하는 작업, 정규식을 이용해서 작업을 함. \n",
    "### 정규화 ( normallization) : 형태가 다른 단어를 특정의 형태로 변환 작업 , 대문자, 소문자 통합 하는 작업, 의미가 비슷한 단어끼리 통합작업. \n",
    "### 토큰화 (tokenization) : 토큰으로 정하는 기본 단위로 분리 작업. 문장 기준, 단어 기준이 될수 도 있다. \n",
    "### 불용어제거(stopword) : 의미 있는 단어를 추출하기 위해서, 조사, 관사, 접미사, 접두사 등. 제거하는 작업. \n",
    "### 어간 추출(semming) : 단수, 복수, 진행형(시제), 분리하는 작업 \n",
    "### 표제어 추출(lemmatization ): 단어의 기본형 형태로 일반화 하는 작업. \n",
    "### 예) \n",
    "### Gone -> go \n",
    "### am -> be\n",
    "### going -> go \n",
    "\n",
    "## 워드클라우드 : 텍스트 분석에서 빈도를 시각화 할 때 많이 사용됨. \n",
    "\n"
   ]
  },
  {
   "cell_type": "markdown",
   "metadata": {},
   "source": [
    "# 데이터 수집 \n",
    "# 한국교육학술정보원 (KERIS)의 RISS 사이트 \n",
    "# https://www.riss.kr/index.do\n",
    "# Big data 검색해보기.\n",
    "# 한 페이지당 100개씩 내보내기 엑셀 파일 간략 정보 , 반복 10번 \n",
    "# 1000개의 데이터에서 제목만 추출 및 분류 작업하기. \n",
    "\n",
    "\n"
   ]
  },
  {
   "cell_type": "markdown",
   "metadata": {},
   "source": [
    "# 데이터 준비 작업. \n",
    "# 제목 컬럼 빈도 분석 해보기. \n"
   ]
  },
  {
   "cell_type": "code",
   "execution_count": 1,
   "metadata": {},
   "outputs": [
    {
     "name": "stdout",
     "output_type": "stream",
     "text": [
      "Requirement already satisfied: wordcloud in c:\\python\\python310\\lib\\site-packages (1.9.3)\n",
      "Requirement already satisfied: numpy>=1.6.1 in c:\\python\\python310\\lib\\site-packages (from wordcloud) (1.26.2)\n",
      "Requirement already satisfied: pillow in c:\\python\\python310\\lib\\site-packages (from wordcloud) (10.1.0)\n",
      "Requirement already satisfied: matplotlib in c:\\python\\python310\\lib\\site-packages (from wordcloud) (3.8.2)\n",
      "Requirement already satisfied: contourpy>=1.0.1 in c:\\python\\python310\\lib\\site-packages (from matplotlib->wordcloud) (1.2.0)\n",
      "Requirement already satisfied: cycler>=0.10 in c:\\python\\python310\\lib\\site-packages (from matplotlib->wordcloud) (0.12.1)\n",
      "Requirement already satisfied: fonttools>=4.22.0 in c:\\python\\python310\\lib\\site-packages (from matplotlib->wordcloud) (4.46.0)\n",
      "Requirement already satisfied: kiwisolver>=1.3.1 in c:\\python\\python310\\lib\\site-packages (from matplotlib->wordcloud) (1.4.5)\n",
      "Requirement already satisfied: packaging>=20.0 in c:\\users\\it\\appdata\\roaming\\python\\python310\\site-packages (from matplotlib->wordcloud) (23.2)\n",
      "Requirement already satisfied: pyparsing>=2.3.1 in c:\\python\\python310\\lib\\site-packages (from matplotlib->wordcloud) (3.1.1)\n",
      "Requirement already satisfied: python-dateutil>=2.7 in c:\\python\\python310\\lib\\site-packages (from matplotlib->wordcloud) (2.8.2)\n",
      "Requirement already satisfied: six>=1.5 in c:\\python\\python310\\lib\\site-packages (from python-dateutil>=2.7->matplotlib->wordcloud) (1.16.0)\n"
     ]
    }
   ],
   "source": [
    "!pip install wordcloud"
   ]
  },
  {
   "cell_type": "code",
   "execution_count": 2,
   "metadata": {},
   "outputs": [
    {
     "name": "stdout",
     "output_type": "stream",
     "text": [
      "Requirement already satisfied: nltk in c:\\python\\python310\\lib\\site-packages (3.8.1)\n",
      "Requirement already satisfied: click in c:\\python\\python310\\lib\\site-packages (from nltk) (8.1.7)\n",
      "Requirement already satisfied: joblib in c:\\python\\python310\\lib\\site-packages (from nltk) (1.3.2)\n",
      "Requirement already satisfied: regex>=2021.8.3 in c:\\python\\python310\\lib\\site-packages (from nltk) (2023.10.3)\n",
      "Requirement already satisfied: tqdm in c:\\python\\python310\\lib\\site-packages (from nltk) (4.66.1)\n",
      "Requirement already satisfied: colorama in c:\\users\\it\\appdata\\roaming\\python\\python310\\site-packages (from click->nltk) (0.4.6)\n"
     ]
    }
   ],
   "source": [
    "# !pip install nltk\n"
   ]
  },
  {
   "cell_type": "code",
   "execution_count": 3,
   "metadata": {},
   "outputs": [],
   "source": [
    "# import nltk\n",
    "# nltk.download()"
   ]
  },
  {
   "cell_type": "code",
   "execution_count": 4,
   "metadata": {},
   "outputs": [],
   "source": [
    "# 관련 패키지들 임포트 하기. \n",
    "import pandas as pd \n",
    "# 경로 이름 지정해서 파일 처리할 때 사용하는 도구\n",
    "import glob \n",
    "# 정규 표현식에 사용하는 도구 \n",
    "import re \n",
    "# 2차원 리스트를 -> 1차원 리스트로 차원 축소시 사용하는 도구 \n",
    "from functools import reduce\n",
    "# 자연어 처리 패키지 중에서, 단어 토큰화 작업.\n",
    "from nltk.tokenize import word_tokenize\n",
    "# 불용어 처리 작업. \n",
    "from nltk.corpus import stopwords \n",
    "# 표제어 추출 \n",
    "from nltk.stem import WordNetLemmatizer \n",
    "# 단어의 빈도를 추출하는 도구. \n",
    "from collections import Counter \n",
    "import matplotlib.pyplot as plt\n",
    "# 단어의 빈도수를 시각화하는 도구, 빈도가 높을수록 글자 크기가 커짐. \n",
    "from wordcloud import STOPWORDS, WordCloud \n"
   ]
  }
 ],
 "metadata": {
  "kernelspec": {
   "display_name": "Python 3",
   "language": "python",
   "name": "python3"
  },
  "language_info": {
   "codemirror_mode": {
    "name": "ipython",
    "version": 3
   },
   "file_extension": ".py",
   "mimetype": "text/x-python",
   "name": "python",
   "nbconvert_exporter": "python",
   "pygments_lexer": "ipython3",
   "version": "3.10.7"
  }
 },
 "nbformat": 4,
 "nbformat_minor": 2
}
