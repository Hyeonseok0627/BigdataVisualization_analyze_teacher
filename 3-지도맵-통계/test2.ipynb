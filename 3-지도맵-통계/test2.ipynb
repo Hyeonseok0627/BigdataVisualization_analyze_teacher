{
 "cells": [
  {
   "cell_type": "markdown",
   "metadata": {},
   "source": [
    "# 행정구역별 의료기관 현황 분석해보기."
   ]
  }
 ],
 "metadata": {
  "language_info": {
   "name": "python"
  }
 },
 "nbformat": 4,
 "nbformat_minor": 2
}
