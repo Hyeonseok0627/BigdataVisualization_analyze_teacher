{
 "cells": [
  {
   "cell_type": "markdown",
   "metadata": {},
   "source": [
    "## 한글 형태소 분석, 시각화, 워드 클라우드 등.\n",
    "### 형태소 분석, 품사 태깅.\n",
    "### 데이터 :  샘플 데이터, 페이스북 전자 신문에서 크롤링한 임시 데이터로 대체\n",
    "### 설치가 조금 복잡함.\n",
    "### 1) jdk 17이상 2) JPyne(자바, 파이썬 연결하는 도구) 3) konlpy 패키지 설치.\n",
    "\n",
    "## 주의사항, JPyne 버전 1.4, 파이썬 버전 3.10.7 다운 그레이드\n",
    "## 시스템 환경 변수, ex) JAVA_HOME : 경로 추가하기. jdk 17\n",
    "### 시스템 환경 변수의 경로 값 예제: C:\\Program Files\\Java\\jdk-17\n",
    "### 변수명 : Path\n",
    "### 경로 : C:\\Program Files\\Java\\jdk-17\\bin\n",
    "\n",
    "### 파이썬 3.10.x , 예) 3.10.7 버전으로 다운 받기.\n",
    "### 시스템 환경 변수 추가 작업\n",
    "### 변수명 : Path\n",
    "### 경로C:\\Python\\Python39\\\n",
    "### 변수명 : Path\n",
    "### 경로C:\\Python\\Python39\\Scripts\n",
    "### cmd -> python -V\n",
    "### 2) JPype(자바, 파이썬 연결하는 도구)\n",
    "### 다운로드 사이트 주소 : https://www.lfd.uci.edu/~gohlke/pythonlibs/#jpype\n",
    "### JPype 검색하고, 버전은 JPype1-1.4.0-cp310-cp310-win_amd.whl 받아서,\n",
    "### 해당 다운로드 받은 폴더 이동하고, 해당 폴더 검색경로에서, cmd 실행하고,\n",
    "### cmd -> pip install JPype1‑1.4.0‑cp310‑cp310‑win_amd64.whl\n",
    "### 업그레이드 경고창 뜨면 :\n",
    "### python.exe -m pip install --upgrade pip\n",
    "### 업그레이드 후 , 다시 설치\n",
    "### pip install JPype1‑1.4.0‑cp310‑cp310‑win_amd64.whl\n",
    "### , 명령어 붙여넣기.\n",
    "### pip install konlpy\n"
   ]
  },
  {
   "cell_type": "markdown",
   "metadata": {},
   "source": [
    "# 용어 정리\n",
    "## 형태소, 형태소 분석\n",
    "### 형태소: 언어에서 의미가 가장 작은 단위.\n",
    "### 형태소 분석: 형태소, 어근, 접두사/접미사, 품사 등 다양한 속성 구조.\n",
    "### 품사 태깅 예) 상용 이가 좋아 하는 음식 은 국밥 이다.\n",
    "### 음식 : NNG, 이가 : JKM, 좋아하는 : VV, 이다 : EFN, 높임말(예) 하신다) : EPH\n",
    "### 품사 태깅 해주는 패키지 : Hananum, Kkma, Komoran, Okt(Twitter 제공)\n",
    "### Okt, 명사 / Noun, 에 / Josa, 먹는 / Verb, 다/ Eomi"
   ]
  },
  {
   "cell_type": "markdown",
   "metadata": {},
   "source": [
    "# 샘플 데이터 사용.\n",
    "#"
   ]
  },
  {
   "cell_type": "code",
   "execution_count": 2,
   "metadata": {},
   "outputs": [
    {
     "name": "stdout",
     "output_type": "stream",
     "text": [
      "Requirement already satisfied: matplotlib in c:\\python\\python310\\lib\\site-packages (3.8.2)\n",
      "Requirement already satisfied: contourpy>=1.0.1 in c:\\python\\python310\\lib\\site-packages (from matplotlib) (1.2.0)\n",
      "Requirement already satisfied: cycler>=0.10 in c:\\python\\python310\\lib\\site-packages (from matplotlib) (0.12.1)\n",
      "Requirement already satisfied: fonttools>=4.22.0 in c:\\python\\python310\\lib\\site-packages (from matplotlib) (4.47.0)\n",
      "Requirement already satisfied: kiwisolver>=1.3.1 in c:\\python\\python310\\lib\\site-packages (from matplotlib) (1.4.5)\n",
      "Requirement already satisfied: numpy<2,>=1.21 in c:\\python\\python310\\lib\\site-packages (from matplotlib) (1.26.2)\n",
      "Requirement already satisfied: packaging>=20.0 in c:\\users\\it\\appdata\\roaming\\python\\python310\\site-packages (from matplotlib) (23.2)\n",
      "Requirement already satisfied: pillow>=8 in c:\\python\\python310\\lib\\site-packages (from matplotlib) (10.1.0)\n",
      "Requirement already satisfied: pyparsing>=2.3.1 in c:\\python\\python310\\lib\\site-packages (from matplotlib) (3.1.1)\n",
      "Requirement already satisfied: python-dateutil>=2.7 in c:\\users\\it\\appdata\\roaming\\python\\python310\\site-packages (from matplotlib) (2.8.2)\n",
      "Requirement already satisfied: six>=1.5 in c:\\users\\it\\appdata\\roaming\\python\\python310\\site-packages (from python-dateutil>=2.7->matplotlib) (1.16.0)\n",
      "Requirement already satisfied: wordcloud in c:\\python\\python310\\lib\\site-packages (1.9.3)\n",
      "Requirement already satisfied: numpy>=1.6.1 in c:\\python\\python310\\lib\\site-packages (from wordcloud) (1.26.2)\n",
      "Requirement already satisfied: pillow in c:\\python\\python310\\lib\\site-packages (from wordcloud) (10.1.0)\n",
      "Requirement already satisfied: matplotlib in c:\\python\\python310\\lib\\site-packages (from wordcloud) (3.8.2)\n",
      "Requirement already satisfied: contourpy>=1.0.1 in c:\\python\\python310\\lib\\site-packages (from matplotlib->wordcloud) (1.2.0)\n",
      "Requirement already satisfied: cycler>=0.10 in c:\\python\\python310\\lib\\site-packages (from matplotlib->wordcloud) (0.12.1)\n",
      "Requirement already satisfied: fonttools>=4.22.0 in c:\\python\\python310\\lib\\site-packages (from matplotlib->wordcloud) (4.47.0)\n",
      "Requirement already satisfied: kiwisolver>=1.3.1 in c:\\python\\python310\\lib\\site-packages (from matplotlib->wordcloud) (1.4.5)\n",
      "Requirement already satisfied: packaging>=20.0 in c:\\users\\it\\appdata\\roaming\\python\\python310\\site-packages (from matplotlib->wordcloud) (23.2)\n",
      "Requirement already satisfied: pyparsing>=2.3.1 in c:\\python\\python310\\lib\\site-packages (from matplotlib->wordcloud) (3.1.1)\n",
      "Requirement already satisfied: python-dateutil>=2.7 in c:\\users\\it\\appdata\\roaming\\python\\python310\\site-packages (from matplotlib->wordcloud) (2.8.2)\n",
      "Requirement already satisfied: six>=1.5 in c:\\users\\it\\appdata\\roaming\\python\\python310\\site-packages (from python-dateutil>=2.7->matplotlib->wordcloud) (1.16.0)\n"
     ]
    }
   ],
   "source": [
    "# 주피터로 라이브러리 설치하는 명령어(cmd창에선 \"!\"를 빼줘야 함)\n",
    "# !pip install matplotlib\n",
    "# !pip install wordcloud"
   ]
  },
  {
   "cell_type": "code",
   "execution_count": 3,
   "metadata": {},
   "outputs": [],
   "source": [
    "import json\n",
    "import re\n",
    "from konlpy.tag import Okt\n",
    "from collections import Counter\n",
    "import matplotlib\n",
    "import matplotlib.pyplot as plt\n",
    "from matplotlib import font_manager, rc\n",
    "from wordcloud import WordCloud"
   ]
  }
 ],
 "metadata": {
  "kernelspec": {
   "display_name": "Python 3",
   "language": "python",
   "name": "python3"
  },
  "language_info": {
   "codemirror_mode": {
    "name": "ipython",
    "version": 3
   },
   "file_extension": ".py",
   "mimetype": "text/x-python",
   "name": "python",
   "nbconvert_exporter": "python",
   "pygments_lexer": "ipython3",
   "version": "3.10.7"
  }
 },
 "nbformat": 4,
 "nbformat_minor": 2
}
