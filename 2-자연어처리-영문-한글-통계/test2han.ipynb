{
 "cells": [
  {
   "cell_type": "markdown",
   "metadata": {},
   "source": [
    "## 한글 형태소 분석, 시각화, 워드 클라우드 등.\n",
    "### 형태소 분석, 품사 태깅.\n",
    "### 데이터 :  샘플 데이터, 페이스북 전자 신문에서 크롤링한 임시 데이터로 대체\n",
    "### 설치가 조금 복잡함.\n",
    "### 1) jdk 17이상 2) JPyne(자바, 파이썬 연결하는 도구) 3) konlpy 패키지 설치.\n",
    "\n",
    "## 주의사항, JPyne 버전 1.4, 파이썬 버전 3.10.7 다운 그레이드\n",
    "## 시스템 환경 변수, ex) JAVA_HOME : 경로 추가하기. jdk 17"
   ]
  }
 ],
 "metadata": {
  "language_info": {
   "name": "python"
  }
 },
 "nbformat": 4,
 "nbformat_minor": 2
}
