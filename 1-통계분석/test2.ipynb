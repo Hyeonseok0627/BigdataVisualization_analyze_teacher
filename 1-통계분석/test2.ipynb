{
 "cells": [
  {
   "cell_type": "markdown",
   "metadata": {},
   "source": [
    "# 타이타닉 생존율 분석 해보기\n",
    "## 상관분석, 상관 계수, 피어슨 상관 계수, 히트맵 \n",
    "### 타이타닉 데이터 seaborn 내장 데이터 셋 \n",
    "### 전처리 비슷하게, null  값을 , 최빈값(가장 빈도가 높은 데이터), 중앙값 대체 \n",
    "### 파이 차트, 갯수 차트, 히트맵, 시각화 \n",
    "### 1) 모든 변수 간 상관계수 구하고, 2) 지정한 두 변수 간 상관계수도 구하기. \n",
    "\n",
    "## 용어정리 \n",
    "### 상관 분석 : 두 변수가 어떤 선형적 관계에 있는지 분석 하는 방법. \n",
    "### 두 변수의 관계의 강도를 상관관계라고 함. \n",
    "### 상관관계의 정도를 나타내는 단위를 모상관 계수 p(파이)를 사용함. by 위키피디아 \n",
    "\n",
    "### 단순 상관 분석: 두 변수 사이의 어느 정도 강한 관계 인지. \n",
    "### 다중 상관 분석 : 세 개이상의 변수 간 관계의 강도를 측정. \n",
    "\n",
    "### 상관계수 : + , - , 독립변수가, 종속 변수에 어떠한 영향을 미치는지, \n",
    "### x 증가시, y도 증가하는지, 아니면 감소하는지? \n",
    "### 이번에는 수치를 구간을 나눠서, 어느정도 연관성이 있는지 수치화해서, 예측하기. \n",
    "\n",
    "### 피어슨 상관계수 : 많이 사용하는 예제다. \n",
    "### ex) 0.0 ~ 0.2 : 상관관계가 거의 없다. \n",
    "### ex) 0.2 ~ 0.4 : 약한 상관관계가 있다. \n",
    "### ex) 0.4 ~ 0.6 : 상관관계가 있다. \n",
    "### ex) 0.6 ~ 0.8 : 강한 상관관계가 있다. \n",
    "### ex) 0.8 ~ 1.0 : 매우 강한 상관관계가 있다. \n"
   ]
  },
  {
   "cell_type": "code",
   "execution_count": 3,
   "metadata": {},
   "outputs": [],
   "source": [
    "# 데이터 수집 \n",
    "import seaborn as sns \n",
    "import pandas as pd \n",
    "titanic = sns.load_dataset(\"titanic\")\n",
    "titanic.to_csv(\"C:/BigDataTest/My_Python/1-통계분석/titanic_231219.csv\", index=False)"
   ]
  },
  {
   "cell_type": "code",
   "execution_count": 4,
   "metadata": {},
   "outputs": [
    {
     "data": {
      "text/plain": [
       "survived         0\n",
       "pclass           0\n",
       "sex              0\n",
       "age            177\n",
       "sibsp            0\n",
       "parch            0\n",
       "fare             0\n",
       "embarked         2\n",
       "class            0\n",
       "who              0\n",
       "adult_male       0\n",
       "deck           688\n",
       "embark_town      2\n",
       "alive            0\n",
       "alone            0\n",
       "dtype: int64"
      ]
     },
     "execution_count": 4,
     "metadata": {},
     "output_type": "execute_result"
    }
   ],
   "source": [
    "# 데이터 준비 \n",
    "# 비어 있는 컬럼들 조사 (결측값, 누락된값):\n",
    "# age, embarked, deck , embark_town \n",
    "# 정확한 분석이 어렵기 때문에, 대체 값으로 채울 예정. \n",
    "# age -> 중앙값으로 값을 대체, embarked, deck , embark_town : 최빈값()으로 대체 하자. \n",
    "# 임의로 정했음. (룰을 임의로 정함, 데이터가 부족하거나, 표본 집단을 정하는 경우도 많음.)\n",
    "# 최빈값 : 예) 카테고리  suv(70개) , 승용차(100개) , 전기차(30개) -> 승용차 최빈값.  \n",
    "\n",
    "# titanic , 메모리 상에 있는 데이터를 기본 조사, 널 조사. \n",
    "titanic.isnull().sum()"
   ]
  },
  {
   "cell_type": "code",
   "execution_count": 9,
   "metadata": {},
   "outputs": [
    {
     "data": {
      "text/plain": [
       "survived       0\n",
       "pclass         0\n",
       "sex            0\n",
       "age            0\n",
       "sibsp          0\n",
       "parch          0\n",
       "fare           0\n",
       "embarked       0\n",
       "class          0\n",
       "who            0\n",
       "adult_male     0\n",
       "deck           0\n",
       "embark_town    0\n",
       "alive          0\n",
       "alone          0\n",
       "dtype: int64"
      ]
     },
     "execution_count": 9,
     "metadata": {},
     "output_type": "execute_result"
    }
   ],
   "source": [
    "# age, embarked, deck , embark_town \n",
    "# 정확한 분석이 어렵기 때문에, 대체 값으로 채울 예정. \n",
    "# age -> 중앙값으로 값을 대체, \n",
    "# titanic['age'].median() : 중앙값\n",
    "# fillna 함수 이용해서, null 값에 , 해당 인자값 , 중앙값으로 채우기. \n",
    "# 다신, age 컬럼에 비어있는 값에, 중앙값으로 채우기. \n",
    "titanic['age'] = titanic['age'].fillna(titanic['age'].median())\n",
    "# 결과 확인. \n",
    "titanic.isnull().sum()\n",
    "\n",
    "# embarked, deck , embark_town : 최빈값()으로 대체 하자.\n",
    "# embarked 컬럼의 최빈값 조사 -> S    644 , 사용\n",
    "titanic[\"embarked\"].value_counts()\n",
    "\n",
    "# deck -> C    59 ,당첨 \n",
    "titanic[\"deck\"].value_counts()\n",
    "\n",
    "# embark_town -> Southampton    644, 당첨\n",
    "titanic[\"embark_town\"].value_counts()\n",
    "\n",
    "# 조사 후 , 해당 값으로 , 컬럼의 빈값에, 대체 하기. \n",
    "titanic[\"embarked\"] = titanic[\"embarked\"].fillna(\"S\")\n",
    "titanic[\"deck\"] = titanic[\"deck\"].fillna(\"C\")\n",
    "titanic[\"embark_town\"] = titanic[\"embark_town\"].fillna(\"Southampton\")\n",
    "\n",
    "# 다시, 결측값 조사. \n",
    "# 결과 확인. \n",
    "titanic.isnull().sum()\n",
    "\n"
   ]
  }
 ],
 "metadata": {
  "kernelspec": {
   "display_name": "Python 3",
   "language": "python",
   "name": "python3"
  },
  "language_info": {
   "codemirror_mode": {
    "name": "ipython",
    "version": 3
   },
   "file_extension": ".py",
   "mimetype": "text/x-python",
   "name": "python",
   "nbconvert_exporter": "python",
   "pygments_lexer": "ipython3",
   "version": "3.12.0"
  }
 },
 "nbformat": 4,
 "nbformat_minor": 2
}
