{
 "cells": [
  {
   "cell_type": "markdown",
   "metadata": {},
   "source": [
    "## 한글 형태소 분석 ,시각화, 워드 클라우드 등. \n",
    "### 형태소 분석, 품사 태깅. \n",
    "### 데이터 : 샘플 데이터 , 페이스북 전자 신문에서 크롤링 한 임시 데이터로  대체 \n",
    "### 설치 가 조금 복잡함.\n",
    "### 1) jdk 17 이상 2) JPype(자바, 파이썬 연결하는 도구) 3) konlpy 패키지 설치. \n",
    "\n",
    "## 주의사항, JPype 버전 1.4,  파이썬 버전 3.10.7 다운그레이드 \n",
    "## 시스템 환경 변수 , ex) JAVA_HOME : 경로 추가 하기. jdk 17\n",
    "### 변수명 : JAVA_HOME (동일하게)\n",
    "### 시스템 환경 변수의 경로 값 예제: C:\\Program Files\\Java\\jdk-17\n",
    "### 변수명 : Path\n",
    "### 경로 : C:\\Program Files\\Java\\jdk-17\\bin\n",
    "\n",
    "## 파이썬 3.10.x , 예) 3.10.7 버전으로 다운 받기. \n",
    "### 시스템 환경 변수 추가 작업\n",
    "\n",
    "### 변수명 : Path\n",
    "### 경로C:\\Python\\Python39\\\n",
    "\n",
    "### 변수명 : Path\n",
    "### 경로C:\\Python\\Python39\\Scripts\n",
    "\n",
    "### cmd -> python -V\n",
    "\n",
    "## 2) JPype(자바, 파이썬 연결하는 도구)\n",
    "### 다운로드 사이트 주소 : https://www.lfd.uci.edu/~gohlke/pythonlibs/#jpype \n",
    "### JPype 검색하고, 버전은 JPype1‑1.4.0‑cp310‑cp310‑win_amd64.whl 받아서, \n",
    "### 해당 다운로드 받은 폴더 이동하고, 해당 폴더 검색경로에서, cmd 실행하고, \n",
    "### cmd -> pip install JPype1‑1.4.0‑cp310‑cp310‑win_amd64.whl\n",
    "### 업그레이드 경고창 뜨면 : \n",
    "### python.exe -m pip install --upgrade pip\n",
    "### 업그레이드 후 , 다시 설치 \n",
    "### pip install JPype1‑1.4.0‑cp310‑cp310‑win_amd64.whl\n",
    "### , 명령어 붙여넣기. \n",
    "### pip install konlpy \n",
    "\n",
    "\n"
   ]
  }
 ],
 "metadata": {
  "language_info": {
   "name": "python"
  }
 },
 "nbformat": 4,
 "nbformat_minor": 2
}
